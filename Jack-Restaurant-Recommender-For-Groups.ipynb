{
    "nbformat": 4, 
    "cells": [
        {
            "cell_type": "markdown", 
            "metadata": {}, 
            "source": "## Restaurant Recommender For Groups\n**Business Problem**: It is Friday night 7pm. You and two of your colleagues would like to dine in somewhere. You exchange restaurant ideas for 30 minutes, but cannot agree on a decision. All of you are now frustrated and hangry, and decided to just grab Chipotle and call it a night.\n\n**Proposed Solution**: Provide a Slack Chatbot that offers restaurant recommendations based on the group\u2019s common cuisine preference. This iPython notebook documents the methodology for determining a common cuisine preference among a group of Foursquare users on Slack. The Slack chatbot will also provide the ability for users to schedule events with each other.\n\n**Additional Detail**: Please see accompanying slides on https://docs.google.com/presentation/d/1zsz_M1aGIyk_L-ti0r-xGCCZW7WBQUczMG-rQIC8Q7I/pub?start=false&loop=false&delayms=3000"
        }, 
        {
            "cell_type": "code", 
            "execution_count": 689, 
            "metadata": {
                "collapsed": false
            }, 
            "source": "import requests # library to handle requests\nimport pandas as pd # library for data analsysis\nimport numpy as np # library to handle data in a vectorized manner\nimport random # library for random number generation\n \n# tranforming json file into a pandas dataframe library\nfrom pandas.io.json import json_normalize\n\n# Download neighborhood names and coordinates; Original data source: https://geo.nyu.edu/catalog/nyu_2451_34572\n!wget -O nyc_neighborhoods.csv --quiet https://ibm.box.com/shared/static/vgmf4nauors62vyzv7mg2ul4fpzvomen.csv\n\n# read csv\nnyc = pd.read_csv(\"nyc_neighborhoods.csv\")", 
            "outputs": []
        }, 
        {
            "cell_type": "code", 
            "execution_count": 690, 
            "metadata": {
                "collapsed": false
            }, 
            "source": "# assign client id, client secret, and version\nCLIENT_ID = \"LJ2K2AQQ3SBCETKDTRLCETGRXJO2MZXFXBCTGURVNPBRUKQY\"\nCLIENT_SECRET = \"B5I2ASTKHFSTAH5P1UPWCM5K1CQEWCVYTX3PYSIOXTEVRVFT\"\nVERSION = \"20170514\"", 
            "outputs": []
        }, 
        {
            "cell_type": "code", 
            "execution_count": 691, 
            "metadata": {
                "collapsed": false
            }, 
            "source": "# create url\nurl=\"https://api.foursquare.com/v2/venues/categories?client_id={}&client_secret={}&v={}\".format(CLIENT_ID, CLIENT_SECRET, VERSION)\nurl", 
            "outputs": [
                {
                    "data": {
                        "text/plain": "'https://api.foursquare.com/v2/venues/categories?client_id=LJ2K2AQQ3SBCETKDTRLCETGRXJO2MZXFXBCTGURVNPBRUKQY&client_secret=B5I2ASTKHFSTAH5P1UPWCM5K1CQEWCVYTX3PYSIOXTEVRVFT&v=20170514'"
                    }, 
                    "execution_count": 691, 
                    "metadata": {}, 
                    "output_type": "execute_result"
                }
            ]
        }, 
        {
            "cell_type": "code", 
            "execution_count": 692, 
            "metadata": {
                "collapsed": false
            }, 
            "source": "# load json results\nresults = requests.get(url).json()", 
            "outputs": []
        }, 
        {
            "cell_type": "code", 
            "execution_count": 693, 
            "metadata": {
                "collapsed": false
            }, 
            "source": "# assign relevant part of JSON to foodcat\nfoodcat = results[\"response\"][\"categories\"][3][\"categories\"]\n\n# tranform foodcat into a dataframe, keeping only shortName\nfoodcat = json_normalize(foodcat)\nfoodcat = foodcat['shortName']\nfoodcat.head()", 
            "outputs": [
                {
                    "data": {
                        "text/plain": "0        Afghan\n1       African\n2      American\n3         Asian\n4    Australian\nName: shortName, dtype: object"
                    }, 
                    "execution_count": 693, 
                    "metadata": {}, 
                    "output_type": "execute_result"
                }
            ]
        }, 
        {
            "cell_type": "code", 
            "execution_count": 694, 
            "metadata": {
                "collapsed": false
            }, 
            "source": "# create dummy users with randomized count of venue likes for each food category\ndf = pd.DataFrame(np.random.randint(0,25,size=(5, 91)), index=['Alex', 'Bella', 'Carlos', 'Denise', 'Elise'], columns=foodcat)\n\n# insert total likes by user\ntotal_likes = df.sum(axis = 1)\ndf.insert(0, 'Likes', total_likes)\n\n# insert standard deviations from mean based on number of likes\ndf.insert(1, 'Multiplier', (df.Likes - df.Likes.mean())/df.Likes.std())\ndf", 
            "outputs": [
                {
                    "data": {
                        "text/html": "<div>\n<table border=\"1\" class=\"dataframe\">\n  <thead>\n    <tr style=\"text-align: right;\">\n      <th>shortName</th>\n      <th>Likes</th>\n      <th>Multiplier</th>\n      <th>Afghan</th>\n      <th>African</th>\n      <th>American</th>\n      <th>Asian</th>\n      <th>Australian</th>\n      <th>Austrian</th>\n      <th>BBQ</th>\n      <th>Bagels</th>\n      <th>...</th>\n      <th>Sri Lankan</th>\n      <th>Steakhouse</th>\n      <th>Swiss</th>\n      <th>Tea Room</th>\n      <th>Theme Restaurant</th>\n      <th>Truck Stop</th>\n      <th>Turkish</th>\n      <th>Ukrainian</th>\n      <th>Vegetarian / Vegan</th>\n      <th>Wings</th>\n    </tr>\n  </thead>\n  <tbody>\n    <tr>\n      <th>Alex</th>\n      <td>1114</td>\n      <td>0.470060</td>\n      <td>5</td>\n      <td>11</td>\n      <td>21</td>\n      <td>23</td>\n      <td>5</td>\n      <td>5</td>\n      <td>23</td>\n      <td>0</td>\n      <td>...</td>\n      <td>13</td>\n      <td>4</td>\n      <td>24</td>\n      <td>20</td>\n      <td>12</td>\n      <td>24</td>\n      <td>22</td>\n      <td>6</td>\n      <td>2</td>\n      <td>3</td>\n    </tr>\n    <tr>\n      <th>Bella</th>\n      <td>1117</td>\n      <td>0.517702</td>\n      <td>16</td>\n      <td>16</td>\n      <td>7</td>\n      <td>13</td>\n      <td>24</td>\n      <td>6</td>\n      <td>9</td>\n      <td>18</td>\n      <td>...</td>\n      <td>13</td>\n      <td>22</td>\n      <td>6</td>\n      <td>14</td>\n      <td>4</td>\n      <td>18</td>\n      <td>17</td>\n      <td>2</td>\n      <td>20</td>\n      <td>15</td>\n    </tr>\n    <tr>\n      <th>Carlos</th>\n      <td>1135</td>\n      <td>0.803549</td>\n      <td>2</td>\n      <td>15</td>\n      <td>13</td>\n      <td>1</td>\n      <td>20</td>\n      <td>7</td>\n      <td>19</td>\n      <td>15</td>\n      <td>...</td>\n      <td>12</td>\n      <td>8</td>\n      <td>17</td>\n      <td>16</td>\n      <td>17</td>\n      <td>2</td>\n      <td>22</td>\n      <td>24</td>\n      <td>16</td>\n      <td>5</td>\n    </tr>\n    <tr>\n      <th>Denise</th>\n      <td>978</td>\n      <td>-1.689677</td>\n      <td>17</td>\n      <td>17</td>\n      <td>10</td>\n      <td>23</td>\n      <td>14</td>\n      <td>8</td>\n      <td>4</td>\n      <td>10</td>\n      <td>...</td>\n      <td>12</td>\n      <td>14</td>\n      <td>17</td>\n      <td>8</td>\n      <td>14</td>\n      <td>21</td>\n      <td>21</td>\n      <td>6</td>\n      <td>9</td>\n      <td>22</td>\n    </tr>\n    <tr>\n      <th>Elise</th>\n      <td>1078</td>\n      <td>-0.101635</td>\n      <td>1</td>\n      <td>6</td>\n      <td>5</td>\n      <td>14</td>\n      <td>3</td>\n      <td>4</td>\n      <td>21</td>\n      <td>0</td>\n      <td>...</td>\n      <td>7</td>\n      <td>1</td>\n      <td>12</td>\n      <td>4</td>\n      <td>22</td>\n      <td>19</td>\n      <td>4</td>\n      <td>17</td>\n      <td>14</td>\n      <td>2</td>\n    </tr>\n  </tbody>\n</table>\n<p>5 rows \u00d7 93 columns</p>\n</div>", 
                        "text/plain": "shortName  Likes  Multiplier  Afghan  African  American  Asian  Australian  \\\nAlex        1114    0.470060       5       11        21     23           5   \nBella       1117    0.517702      16       16         7     13          24   \nCarlos      1135    0.803549       2       15        13      1          20   \nDenise       978   -1.689677      17       17        10     23          14   \nElise       1078   -0.101635       1        6         5     14           3   \n\nshortName  Austrian  BBQ  Bagels  ...    Sri Lankan  Steakhouse  Swiss  \\\nAlex              5   23       0  ...            13           4     24   \nBella             6    9      18  ...            13          22      6   \nCarlos            7   19      15  ...            12           8     17   \nDenise            8    4      10  ...            12          14     17   \nElise             4   21       0  ...             7           1     12   \n\nshortName  Tea Room  Theme Restaurant  Truck Stop  Turkish  Ukrainian  \\\nAlex             20                12          24       22          6   \nBella            14                 4          18       17          2   \nCarlos           16                17           2       22         24   \nDenise            8                14          21       21          6   \nElise             4                22          19        4         17   \n\nshortName  Vegetarian / Vegan  Wings  \nAlex                        2      3  \nBella                      20     15  \nCarlos                     16      5  \nDenise                      9     22  \nElise                      14      2  \n\n[5 rows x 93 columns]"
                    }, 
                    "execution_count": 694, 
                    "metadata": {}, 
                    "output_type": "execute_result"
                }
            ]
        }, 
        {
            "cell_type": "code", 
            "execution_count": 695, 
            "metadata": {
                "collapsed": false
            }, 
            "source": "# convert counts percentage based on total likes by person\ndf = df.loc[:,\"Afghan\":\"Wings\"].div(df[\"Likes\"], axis=0)\ndf", 
            "outputs": [
                {
                    "data": {
                        "text/html": "<div>\n<table border=\"1\" class=\"dataframe\">\n  <thead>\n    <tr style=\"text-align: right;\">\n      <th>shortName</th>\n      <th>Afghan</th>\n      <th>African</th>\n      <th>American</th>\n      <th>Asian</th>\n      <th>Australian</th>\n      <th>Austrian</th>\n      <th>BBQ</th>\n      <th>Bagels</th>\n      <th>Bakery</th>\n      <th>Belgian</th>\n      <th>...</th>\n      <th>Sri Lankan</th>\n      <th>Steakhouse</th>\n      <th>Swiss</th>\n      <th>Tea Room</th>\n      <th>Theme Restaurant</th>\n      <th>Truck Stop</th>\n      <th>Turkish</th>\n      <th>Ukrainian</th>\n      <th>Vegetarian / Vegan</th>\n      <th>Wings</th>\n    </tr>\n  </thead>\n  <tbody>\n    <tr>\n      <th>Alex</th>\n      <td>0.004488</td>\n      <td>0.009874</td>\n      <td>0.018851</td>\n      <td>0.020646</td>\n      <td>0.004488</td>\n      <td>0.004488</td>\n      <td>0.020646</td>\n      <td>0.000000</td>\n      <td>0.017056</td>\n      <td>0.017953</td>\n      <td>...</td>\n      <td>0.011670</td>\n      <td>0.003591</td>\n      <td>0.021544</td>\n      <td>0.017953</td>\n      <td>0.010772</td>\n      <td>0.021544</td>\n      <td>0.019749</td>\n      <td>0.005386</td>\n      <td>0.001795</td>\n      <td>0.002693</td>\n    </tr>\n    <tr>\n      <th>Bella</th>\n      <td>0.014324</td>\n      <td>0.014324</td>\n      <td>0.006267</td>\n      <td>0.011638</td>\n      <td>0.021486</td>\n      <td>0.005372</td>\n      <td>0.008057</td>\n      <td>0.016115</td>\n      <td>0.006267</td>\n      <td>0.003581</td>\n      <td>...</td>\n      <td>0.011638</td>\n      <td>0.019696</td>\n      <td>0.005372</td>\n      <td>0.012534</td>\n      <td>0.003581</td>\n      <td>0.016115</td>\n      <td>0.015219</td>\n      <td>0.001791</td>\n      <td>0.017905</td>\n      <td>0.013429</td>\n    </tr>\n    <tr>\n      <th>Carlos</th>\n      <td>0.001762</td>\n      <td>0.013216</td>\n      <td>0.011454</td>\n      <td>0.000881</td>\n      <td>0.017621</td>\n      <td>0.006167</td>\n      <td>0.016740</td>\n      <td>0.013216</td>\n      <td>0.008811</td>\n      <td>0.014097</td>\n      <td>...</td>\n      <td>0.010573</td>\n      <td>0.007048</td>\n      <td>0.014978</td>\n      <td>0.014097</td>\n      <td>0.014978</td>\n      <td>0.001762</td>\n      <td>0.019383</td>\n      <td>0.021145</td>\n      <td>0.014097</td>\n      <td>0.004405</td>\n    </tr>\n    <tr>\n      <th>Denise</th>\n      <td>0.017382</td>\n      <td>0.017382</td>\n      <td>0.010225</td>\n      <td>0.023517</td>\n      <td>0.014315</td>\n      <td>0.008180</td>\n      <td>0.004090</td>\n      <td>0.010225</td>\n      <td>0.022495</td>\n      <td>0.010225</td>\n      <td>...</td>\n      <td>0.012270</td>\n      <td>0.014315</td>\n      <td>0.017382</td>\n      <td>0.008180</td>\n      <td>0.014315</td>\n      <td>0.021472</td>\n      <td>0.021472</td>\n      <td>0.006135</td>\n      <td>0.009202</td>\n      <td>0.022495</td>\n    </tr>\n    <tr>\n      <th>Elise</th>\n      <td>0.000928</td>\n      <td>0.005566</td>\n      <td>0.004638</td>\n      <td>0.012987</td>\n      <td>0.002783</td>\n      <td>0.003711</td>\n      <td>0.019481</td>\n      <td>0.000000</td>\n      <td>0.013915</td>\n      <td>0.017625</td>\n      <td>...</td>\n      <td>0.006494</td>\n      <td>0.000928</td>\n      <td>0.011132</td>\n      <td>0.003711</td>\n      <td>0.020408</td>\n      <td>0.017625</td>\n      <td>0.003711</td>\n      <td>0.015770</td>\n      <td>0.012987</td>\n      <td>0.001855</td>\n    </tr>\n  </tbody>\n</table>\n<p>5 rows \u00d7 91 columns</p>\n</div>", 
                        "text/plain": "shortName    Afghan   African  American     Asian  Australian  Austrian  \\\nAlex       0.004488  0.009874  0.018851  0.020646    0.004488  0.004488   \nBella      0.014324  0.014324  0.006267  0.011638    0.021486  0.005372   \nCarlos     0.001762  0.013216  0.011454  0.000881    0.017621  0.006167   \nDenise     0.017382  0.017382  0.010225  0.023517    0.014315  0.008180   \nElise      0.000928  0.005566  0.004638  0.012987    0.002783  0.003711   \n\nshortName       BBQ    Bagels    Bakery   Belgian    ...     Sri Lankan  \\\nAlex       0.020646  0.000000  0.017056  0.017953    ...       0.011670   \nBella      0.008057  0.016115  0.006267  0.003581    ...       0.011638   \nCarlos     0.016740  0.013216  0.008811  0.014097    ...       0.010573   \nDenise     0.004090  0.010225  0.022495  0.010225    ...       0.012270   \nElise      0.019481  0.000000  0.013915  0.017625    ...       0.006494   \n\nshortName  Steakhouse     Swiss  Tea Room  Theme Restaurant  Truck Stop  \\\nAlex         0.003591  0.021544  0.017953          0.010772    0.021544   \nBella        0.019696  0.005372  0.012534          0.003581    0.016115   \nCarlos       0.007048  0.014978  0.014097          0.014978    0.001762   \nDenise       0.014315  0.017382  0.008180          0.014315    0.021472   \nElise        0.000928  0.011132  0.003711          0.020408    0.017625   \n\nshortName   Turkish  Ukrainian  Vegetarian / Vegan     Wings  \nAlex       0.019749   0.005386            0.001795  0.002693  \nBella      0.015219   0.001791            0.017905  0.013429  \nCarlos     0.019383   0.021145            0.014097  0.004405  \nDenise     0.021472   0.006135            0.009202  0.022495  \nElise      0.003711   0.015770            0.012987  0.001855  \n\n[5 rows x 91 columns]"
                    }, 
                    "execution_count": 695, 
                    "metadata": {}, 
                    "output_type": "execute_result"
                }
            ]
        }, 
        {
            "cell_type": "code", 
            "execution_count": 696, 
            "metadata": {
                "collapsed": false
            }, 
            "source": "# get sum of scores for each food category\ntotal_score = df.sum(axis=0).sort_values(ascending = False)\n\n# determine group cuisine preference\ntopcat = total_score.head(1).index[0].encode('ascii','ignore')\ntopcat", 
            "outputs": [
                {
                    "data": {
                        "text/plain": "'Kebab'"
                    }, 
                    "execution_count": 696, 
                    "metadata": {}, 
                    "output_type": "execute_result"
                }
            ]
        }, 
        {
            "cell_type": "code", 
            "execution_count": 697, 
            "metadata": {
                "collapsed": false
            }, 
            "source": "# user will provide a neighborhood name; for demonstration purposes, we choose Tribeca\nhood = \"Tribeca\" # this response will vary based on user input\nhood_lat = nyc.loc[nyc['neighborhood'] == hood].latitude.item()\nhood_lng = nyc.loc[nyc['neighborhood'] == hood].longitude.item()\nradius = 1000", 
            "outputs": []
        }, 
        {
            "cell_type": "code", 
            "execution_count": 698, 
            "metadata": {
                "collapsed": false
            }, 
            "source": "# Get recommended restaurants based on group cuisine preference\nurl=\"https://api.foursquare.com/v2/venues/explore?client_id={}&client_secret={}&v={}&radius={}&ll={},{}&query={}\".format(CLIENT_ID, CLIENT_SECRET, VERSION, radius, hood_lat, hood_lng, topcat)\nurl", 
            "outputs": [
                {
                    "data": {
                        "text/plain": "'https://api.foursquare.com/v2/venues/explore?client_id=LJ2K2AQQ3SBCETKDTRLCETGRXJO2MZXFXBCTGURVNPBRUKQY&client_secret=B5I2ASTKHFSTAH5P1UPWCM5K1CQEWCVYTX3PYSIOXTEVRVFT&v=20170514&radius=1000&ll=40.72152197,-74.01068329&query=Kebab'"
                    }, 
                    "execution_count": 698, 
                    "metadata": {}, 
                    "output_type": "execute_result"
                }
            ]
        }, 
        {
            "cell_type": "code", 
            "execution_count": 699, 
            "metadata": {
                "collapsed": false
            }, 
            "source": "# get JSON\nresults = requests.get(url).json()", 
            "outputs": []
        }, 
        {
            "cell_type": "code", 
            "execution_count": 700, 
            "metadata": {
                "collapsed": false
            }, 
            "source": "# assign list of restaurants from json\ntoprest_json = results[\"response\"][\"groups\"][0].values()[0]", 
            "outputs": []
        }, 
        {
            "cell_type": "code", 
            "execution_count": 701, 
            "metadata": {
                "collapsed": false
            }, 
            "source": "# structure restaurant data (i.e. restaurant name, checkinCount, and whether the restaurant is open right now)\nrestaurant = []\ncheckinCount = []\nisOpen = []\naddress = []\ntip = []\nfor i in range(len(toprest_json)):\n    try:\n        restaurant.append(results['response']['groups'][0].values()[0][i].values()[2]['name'].encode('ascii','ignore'))\n        checkinCount.append(results['response']['groups'][0].values()[0][i].values()[2]['stats']['checkinsCount'])\n        address.append(results['response']['groups'][0].values()[0][i].values()[2]['location']['address'].encode('ascii','ignore'))\n        try:\n            isOpen.append(results['response']['groups'][0].values()[0][i].values()[2]['hours']['isOpen']) \n        except:\n            isOpen.append(\"NA\")\n        try:\n            tip.append(results['response']['groups'][0].values()[0][i].values()[1][0]['text'].encode('ascii','ignore'))\n        except:\n            tip.append(\"NA\")\n    except:\n        restaurant.append(results['response']['groups'][0].values()[0][i].values()[1]['name'].encode('ascii','ignore'))\n        checkinCount.append(results['response']['groups'][0].values()[0][i].values()[1]['stats']['checkinsCount'])\n        address.append(results['response']['groups'][0].values()[0][i].values()[1]['location']['address'].encode('ascii','ignore'))\n        try:\n            isOpen.append(results['response']['groups'][0].values()[0][i].values()[1]['hours']['isOpen'])\n        except:\n            isOpen.append(\"NA\")\n        try:\n            tip.append(results['response']['groups'][0].values()[0][i].values()[1][0]['text'].encode('ascii','ignore'))\n        except:\n            tip.append(\"NA\")", 
            "outputs": []
        }, 
        {
            "cell_type": "code", 
            "execution_count": 702, 
            "metadata": {
                "collapsed": false
            }, 
            "source": "# concatenate lists into dataframe rec_df\nrec_df = pd.DataFrame(\n    {'Restaurant': restaurant,\n     'CheckInCount': checkinCount,\n     'OpenNow': isOpen,\n     'Address': address,\n     'Tip': tip\n    })\n\n# reorder rec_df column names\nrec_df = rec_df[['Restaurant', 'CheckInCount', 'OpenNow', 'Address', 'Tip']]\n\n# filter rec_df by OpenNow = True\nrec_df = rec_df[(rec_df.OpenNow == True)]", 
            "outputs": []
        }, 
        {
            "cell_type": "code", 
            "execution_count": 703, 
            "metadata": {
                "collapsed": false
            }, 
            "source": "# return list of restaurants ordered by CheckInCount\nrec_df = rec_df.sort_values(by = \"CheckInCount\", ascending = False)\nrec_df.head()", 
            "outputs": [
                {
                    "data": {
                        "text/html": "<div>\n<table border=\"1\" class=\"dataframe\">\n  <thead>\n    <tr style=\"text-align: right;\">\n      <th></th>\n      <th>Restaurant</th>\n      <th>CheckInCount</th>\n      <th>OpenNow</th>\n      <th>Address</th>\n      <th>Tip</th>\n    </tr>\n  </thead>\n  <tbody>\n    <tr>\n      <th>1</th>\n      <td>12 Chairs</td>\n      <td>6354</td>\n      <td>True</td>\n      <td>56 Macdougal St</td>\n      <td>Lamb mini kebabs</td>\n    </tr>\n    <tr>\n      <th>2</th>\n      <td>Antique Garage</td>\n      <td>5967</td>\n      <td>True</td>\n      <td>41 Mercer St</td>\n      <td>Live jazz and piano soloist most nights. Upmar...</td>\n    </tr>\n    <tr>\n      <th>0</th>\n      <td>Souk &amp; Sandwich</td>\n      <td>1006</td>\n      <td>True</td>\n      <td>117 Avenue of the Americas</td>\n      <td>O sanduche de kebab  delicioso! Muito gostoso,...</td>\n    </tr>\n  </tbody>\n</table>\n</div>", 
                        "text/plain": "        Restaurant  CheckInCount OpenNow                     Address  \\\n1        12 Chairs          6354    True             56 Macdougal St   \n2   Antique Garage          5967    True                41 Mercer St   \n0  Souk & Sandwich          1006    True  117 Avenue of the Americas   \n\n                                                 Tip  \n1                                   Lamb mini kebabs  \n2  Live jazz and piano soloist most nights. Upmar...  \n0  O sanduche de kebab  delicioso! Muito gostoso,...  "
                    }, 
                    "execution_count": 703, 
                    "metadata": {}, 
                    "output_type": "execute_result"
                }
            ]
        }
    ], 
    "metadata": {
        "kernelspec": {
            "display_name": "Python 2 with Spark 2.0", 
            "language": "python", 
            "name": "python2-spark20"
        }, 
        "language_info": {
            "codemirror_mode": {
                "version": 2, 
                "name": "ipython"
            }, 
            "version": "2.7.11", 
            "name": "python", 
            "file_extension": ".py", 
            "nbconvert_exporter": "python", 
            "mimetype": "text/x-python", 
            "pygments_lexer": "ipython2"
        }
    }, 
    "nbformat_minor": 0
}